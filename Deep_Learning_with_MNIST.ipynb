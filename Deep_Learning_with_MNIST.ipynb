{
  "nbformat": 4,
  "nbformat_minor": 0,
  "metadata": {
    "kernelspec": {
      "display_name": "Python 3",
      "language": "python",
      "name": "python3"
    },
    "language_info": {
      "codemirror_mode": {
        "name": "ipython",
        "version": 3
      },
      "file_extension": ".py",
      "mimetype": "text/x-python",
      "name": "python",
      "nbconvert_exporter": "python",
      "pygments_lexer": "ipython3",
      "version": "3.7.4"
    },
    "colab": {
      "name": "Deep Learning with MNIST.ipynb",
      "provenance": [],
      "include_colab_link": true
    }
  },
  "cells": [
    {
      "cell_type": "markdown",
      "metadata": {
        "id": "view-in-github",
        "colab_type": "text"
      },
      "source": [
        "<a href=\"https://colab.research.google.com/github/Aiden-Liang/CS-Books/blob/master/Deep_Learning_with_MNIST.ipynb\" target=\"_parent\"><img src=\"https://colab.research.google.com/assets/colab-badge.svg\" alt=\"Open In Colab\"/></a>"
      ]
    },
    {
      "cell_type": "markdown",
      "metadata": {
        "id": "uw0Ek6ceMxXE",
        "colab_type": "text"
      },
      "source": [
        "# Deep Learning with MNIST"
      ]
    },
    {
      "cell_type": "code",
      "metadata": {
        "id": "6tTu7tocMxXG",
        "colab_type": "code",
        "colab": {}
      },
      "source": [
        "import numpy as np\n",
        "import matplotlib.pyplot as plt\n",
        "import pandas as pd"
      ],
      "execution_count": 0,
      "outputs": []
    },
    {
      "cell_type": "code",
      "metadata": {
        "id": "l76D7wLTMxXJ",
        "colab_type": "code",
        "colab": {},
        "outputId": "147ffabe-760a-45e9-bbff-4a1986a1def9"
      },
      "source": [
        "# total data = 785 \n",
        "image_pixels = 28 * 28           # each images size = 28*28 \n",
        "classify_labels = 10             # classify 0 ~ 9 number\n",
        "train_data = np.loadtxt(\"mnist_train.csv\", delimiter=\",\")\n",
        "test_data = np.loadtxt(\"mnist_test.csv\", delimiter=\",\")\n",
        "\n",
        "print(\"(first column is classified label)\")\n",
        "print(\"------------------------------------\")\n",
        "print(\"[train data](size):\", train_data.shape)\n",
        "print(train_data)\n",
        "print(\"------------------------------------\")\n",
        "print(\"[test data](size):\", test_data.shape)\n",
        "print(test_data)\n"
      ],
      "execution_count": 0,
      "outputs": [
        {
          "output_type": "stream",
          "text": [
            "(first column is classified label)\n",
            "------------------------------------\n",
            "[train data](size): (60000, 785)\n",
            "[[5. 0. 0. ... 0. 0. 0.]\n",
            " [0. 0. 0. ... 0. 0. 0.]\n",
            " [4. 0. 0. ... 0. 0. 0.]\n",
            " ...\n",
            " [5. 0. 0. ... 0. 0. 0.]\n",
            " [6. 0. 0. ... 0. 0. 0.]\n",
            " [8. 0. 0. ... 0. 0. 0.]]\n",
            "------------------------------------\n",
            "[test data](size): (10000, 785)\n",
            "[[7. 0. 0. ... 0. 0. 0.]\n",
            " [2. 0. 0. ... 0. 0. 0.]\n",
            " [1. 0. 0. ... 0. 0. 0.]\n",
            " ...\n",
            " [4. 0. 0. ... 0. 0. 0.]\n",
            " [5. 0. 0. ... 0. 0. 0.]\n",
            " [6. 0. 0. ... 0. 0. 0.]]\n"
          ],
          "name": "stdout"
        }
      ]
    },
    {
      "cell_type": "markdown",
      "metadata": {
        "id": "df8RJEx2MxXM",
        "colab_type": "text"
      },
      "source": [
        "# Normorlization (feature scaling) "
      ]
    },
    {
      "cell_type": "code",
      "metadata": {
        "id": "N8ZDCdQRMxXN",
        "colab_type": "code",
        "colab": {}
      },
      "source": [
        "# MNIST dataset are greyscale and the pixels range between 0 and 255\n",
        "# Normorlization (feature Scaling) \n",
        "fscal = 0.99 / 255      # scaling range / real range\n",
        "\n",
        "# map these values into an interval from [0.01, 1] \n",
        "# we avoid 0 values as inputs, which are capable of preventing weight updates\n",
        "train_image = np.asfarray(train_data[:, 1:]) * fscal + 0.01    # scaling and map the values range\n",
        "test_image = np.asfarray(test_data[:, 1:]) * fscal + 0.01      \n",
        "\n",
        "# first column is classified label\n",
        "train_labels = np.asfarray(train_data[:, :1])\n",
        "test_labels = np.asfarray(test_data[:, :1])"
      ],
      "execution_count": 0,
      "outputs": []
    },
    {
      "cell_type": "markdown",
      "metadata": {
        "id": "GMgdBR0qMxXQ",
        "colab_type": "text"
      },
      "source": [
        "# One-hot encoding representation"
      ]
    },
    {
      "cell_type": "code",
      "metadata": {
        "scrolled": true,
        "id": "lCKxQ_AFMxXR",
        "colab_type": "code",
        "colab": {},
        "outputId": "3bbe94e3-e123-4635-a609-afc8f1722e15"
      },
      "source": [
        "# indepentdent labels in ranges 0 ~ 9\n",
        "lbr = np.arange(classify_labels)             # produce a set of 0-9 arrays\n",
        "print(\"[lbr]:\",lbr)\n",
        "print(\"------------------------------------------------\")\n",
        "\n",
        "# Turning a label into one-hot representation can be achieved \n",
        "for label in range(10):\n",
        "    one_hot = (lbr==label).astype(np.int)    # transfer digital to binary\n",
        "    print(\"label :\", label, \" one-hot representation :\", one_hot)\n",
        "\n",
        "# transform labels into one hot representation\n",
        "train_labels_one_hot = (lbr==train_labels).astype(np.float)\n",
        "test_labels_one_hot = (lbr==test_labels).astype(np.float)\n",
        "\n",
        "# turn our labelled images into one-hot representations \n",
        "# instead of 0 and 1, we create 0.01 and 0.99, which will be better for our calculations\n",
        "train_labels_one_hot[train_labels_one_hot== 0] = 0.01\n",
        "train_labels_one_hot[train_labels_one_hot== 1] = 0.99\n",
        "test_labels_one_hot[test_labels_one_hot== 0] = 0.01\n",
        "test_labels_one_hot[test_labels_one_hot== 1] = 0.99\n"
      ],
      "execution_count": 0,
      "outputs": [
        {
          "output_type": "stream",
          "text": [
            "[lbr]: [0 1 2 3 4 5 6 7 8 9]\n",
            "------------------------------------------------\n",
            "label : 0  one-hot representation : [1 0 0 0 0 0 0 0 0 0]\n",
            "label : 1  one-hot representation : [0 1 0 0 0 0 0 0 0 0]\n",
            "label : 2  one-hot representation : [0 0 1 0 0 0 0 0 0 0]\n",
            "label : 3  one-hot representation : [0 0 0 1 0 0 0 0 0 0]\n",
            "label : 4  one-hot representation : [0 0 0 0 1 0 0 0 0 0]\n",
            "label : 5  one-hot representation : [0 0 0 0 0 1 0 0 0 0]\n",
            "label : 6  one-hot representation : [0 0 0 0 0 0 1 0 0 0]\n",
            "label : 7  one-hot representation : [0 0 0 0 0 0 0 1 0 0]\n",
            "label : 8  one-hot representation : [0 0 0 0 0 0 0 0 1 0]\n",
            "label : 9  one-hot representation : [0 0 0 0 0 0 0 0 0 1]\n"
          ],
          "name": "stdout"
        }
      ]
    },
    {
      "cell_type": "code",
      "metadata": {
        "scrolled": true,
        "id": "9pPFNN49MxXT",
        "colab_type": "code",
        "colab": {},
        "outputId": "ab8d13ea-8ca4-4d0a-8ece-efc54bb2db35"
      },
      "source": [
        "# check the label and image\n",
        "print(\"[train_labels]\\n\",train_labels[:5,:])\n",
        "print(\"image:\")\n",
        "for i in range(5):\n",
        "    imag = train_image[i].reshape((28,28))  # i is rows   \n",
        "    plt.imshow(imag, cmap=\"Greys\")\n",
        "    plt.show()"
      ],
      "execution_count": 0,
      "outputs": [
        {
          "output_type": "stream",
          "text": [
            "[train_labels]\n",
            " [[5.]\n",
            " [0.]\n",
            " [4.]\n",
            " [1.]\n",
            " [9.]]\n",
            "image:\n"
          ],
          "name": "stdout"
        },
        {
          "output_type": "display_data",
          "data": {
            "image/png": "[encoded data removed]",
            "text/plain": [
              "<Figure size 432x288 with 1 Axes>"
            ]
          },
          "metadata": {
            "tags": [],
            "needs_background": "light"
          }
        },
        {
          "output_type": "display_data",
          "data": {
            "image/png": "[encoded data removed]",
            "text/plain": [
              "<Figure size 432x288 with 1 Axes>"
            ]
          },
          "metadata": {
            "tags": [],
            "needs_background": "light"
          }
        },
        {
          "output_type": "display_data",
          "data": {
            "image/png": "[encoded data removed]",
            "text/plain": [
              "<Figure size 432x288 with 1 Axes>"
            ]
          },
          "metadata": {
            "tags": [],
            "needs_background": "light"
          }
        },
        {
          "output_type": "display_data",
          "data": {
            "image/png": "[encoded data removed]",
            "text/plain": [
              "<Figure size 432x288 with 1 Axes>"
            ]
          },
          "metadata": {
            "tags": [],
            "needs_background": "light"
          }
        },
        {
          "output_type": "display_data",
          "data": {
            "image/png": "[encoded data removed]",
            "text/plain": [
              "<Figure size 432x288 with 1 Axes>"
            ]
          },
          "metadata": {
            "tags": [],
            "needs_background": "light"
          }
        }
      ]
    },
    {
      "cell_type": "code",
      "metadata": {
        "id": "DF6-k_e9MxXX",
        "colab_type": "code",
        "colab": {},
        "outputId": "5c00c732-5ca5-47e0-c8f4-a459bbd71f23"
      },
      "source": [
        "# input = image , output = label \n",
        "x_train = train_image\n",
        "print(\"x_train:\" ,x_train.shape)\n",
        "\n",
        "# bias = bias/np.amax(bias, axis = 0)\n",
        "bias = np.random.randn(x_train.shape[0], 1)\n",
        "x_train = np.hstack((x_train, bias)) \n",
        "y_train = train_labels_one_hot\n",
        "print(\"y_train:\" ,y_train.shape)\n",
        "print(\"bias:\", bias.shape)\n",
        "print(\"x_merge_bias:\",x_train.shape)\n",
        "print(x_train)\n",
        "\n",
        "print(\"------------------------------------\")\n",
        "x_test = test_image\n",
        "print(\"x_test:\" ,x_test.shape)\n",
        "y_test = test_labels_one_hot\n",
        "print(\"y_test:\" ,y_test.shape)\n"
      ],
      "execution_count": 0,
      "outputs": [
        {
          "output_type": "stream",
          "text": [
            "x_train: (60000, 784)\n",
            "y_train: (60000, 10)\n",
            "bias: (60000, 1)\n",
            "x_merge_bias: (60000, 785)\n",
            "[[ 0.01        0.01        0.01       ...  0.01        0.01\n",
            "  -0.87876448]\n",
            " [ 0.01        0.01        0.01       ...  0.01        0.01\n",
            "  -0.13758098]\n",
            " [ 0.01        0.01        0.01       ...  0.01        0.01\n",
            "  -0.50846918]\n",
            " ...\n",
            " [ 0.01        0.01        0.01       ...  0.01        0.01\n",
            "  -0.58108702]\n",
            " [ 0.01        0.01        0.01       ...  0.01        0.01\n",
            "   0.56310624]\n",
            " [ 0.01        0.01        0.01       ...  0.01        0.01\n",
            "  -0.70724077]]\n",
            "------------------------------------\n",
            "x_test: (10000, 784)\n",
            "y_test: (10000, 10)\n"
          ],
          "name": "stdout"
        }
      ]
    },
    {
      "cell_type": "markdown",
      "metadata": {
        "id": "ahsPiyIyMxXZ",
        "colab_type": "text"
      },
      "source": [
        "# Define a Neural Network (one hidden layer)"
      ]
    },
    {
      "cell_type": "code",
      "metadata": {
        "id": "Q--q3OkFMxXa",
        "colab_type": "code",
        "colab": {}
      },
      "source": [
        "hidden_neuron = 800       # hidden neuron size\n",
        "\n",
        "class NeuralNetwork(object):\n",
        "    def __init__(self):     # initial property\n",
        "        \n",
        "        self.alpha = 0.01    # learning rate\n",
        "        \n",
        "        # dimesion\n",
        "        self.inputSize = 785            # input +1 (bias)\n",
        "        self.hiddenSize = hidden_neuron      \n",
        "        self.outputSize = 10\n",
        "        \n",
        "        # weights (Gaussion Random)\n",
        "        self.w1 = np.random.randn(self.inputSize, self.hiddenSize)   # from input to hidden layer [785*1000]\n",
        "        self.w2 = np.random.randn(self.hiddenSize +1, self.outputSize)  # from hidden to output layer [1001*10]\n",
        "        \n",
        "    def feed_forware(self, x_train):\n",
        "        self.z = np.dot(x_train, self.w1)              # forware pass matrix dot\n",
        "        self.sz = self.sigmoid(self.z)                 # activation function between input and hidden\n",
        "        \n",
        "        self.h_sz = np.hstack((self.sz, bias))         # after activation hidden layer input\n",
        "        self.z2 = np.dot(self.h_sz, self.w2)       \n",
        "        \n",
        "        output = self.sigmoid(self.z2)                 # activation function between hidden and output\n",
        "        return output\n",
        "        \n",
        "    def sigmoid(self, s):    # define sigmoid function\n",
        "        return 1/(1 + np.exp(-s))\n",
        "    \n",
        "    def backware_pass(self, x_train, y_train, output):\n",
        "        self.output_error = (y_train - output)                         # error in output\n",
        "        self.output_delta = self.output_error * self.deriv_sigmoid(output)\n",
        "        \n",
        "        self.sz_error = np.dot(self.output_delta, self.w2.T)           # from output back to hidden layer \n",
        "        self.sz_delta = self.sz_error * self.deriv_sigmoid(self.h_sz)\n",
        "        self.sz_delta_no_bias = np.delete(self.sz_delta, -1, axis=1)\n",
        "        \n",
        "        # weight update\n",
        "        self.w1 += self.alpha * np.dot(x_train.T, self.sz_delta_no_bias)  # adjusting first weight set {input to hidden}\n",
        "        \n",
        "        self.w2 += self.alpha * np.dot(self.h_sz.T, self.output_delta)   # adjusting second weight set {hidden to output}\n",
        "        self.last_w1 = self.w1     # storage the last weight\n",
        "        self.last_w2 = self.w2     \n",
        "    \n",
        "    def deriv_sigmoid(self, ds):   # define sigmoid function derivative\n",
        "        return ds * (1-ds)\n",
        "    \n",
        "    def train(self, x_train, y_train):\n",
        "        fp_output = self.feed_forware(x_train)\n",
        "        self.backware_pass(x_train, y_train, fp_output)"
      ],
      "execution_count": 0,
      "outputs": []
    },
    {
      "cell_type": "markdown",
      "metadata": {
        "id": "V7_Kje28MxXd",
        "colab_type": "text"
      },
      "source": [
        "# Training Neural Network and Plot"
      ]
    },
    {
      "cell_type": "code",
      "metadata": {
        "id": "scnqhQU5MxXd",
        "colab_type": "code",
        "colab": {},
        "outputId": "11acea67-ed15-4a1b-9f4c-06124b386a1a"
      },
      "source": [
        "def compute_loss(x, y):\n",
        "    # compute loss function using cross-entropy loss\n",
        "    L_sum = np.sum(np.multiply(y, np.log(x)))\n",
        "    m = y.shape[1]           # columns number of y\n",
        "    L = -(1./m+1) * L_sum\n",
        "    return L\n",
        "\n",
        "# build a neural network objection\n",
        "NN = NeuralNetwork()   \n",
        "print(\"Forward pass output size:\", NN.feed_forware(x_train).shape)\n",
        "print(\"log(feed_forware(x_train))\", np.log(NN.feed_forware(x_train)))\n",
        "print(\"y_train output size:\", y_train.shape)\n",
        "print(\"y.shape[1]:\",y_train.shape[1])\n",
        "\n",
        "epoch = 10            # epoch 1000 times to train\n",
        "loss_array = np.zeros((1,10))\n",
        "epoch_plot = np.array([1,2,3,4,5,6,7,8,9,10])\n",
        "\n",
        "print(\"# Every_epoch_Loss: \")\n",
        "k = 0\n",
        "                    \n",
        "#for i in range(epoch): \n",
        "    #if (i % 1 == 0):     # every epoch 100 times print each \"Loss\"\n",
        "        #print(\"Loss(%): \" + str(Categorical_CE(NN.feed_forware(x_train), y_train))   # cross entropy\n",
        "#loss_array[0,k] = compute_loss( NN.feed_forware(x_train), y_train )    \n",
        "        #k = k + 1\n",
        "NN.train(x_train, y_train)\n",
        "loss_array[0,k] = compute_loss( NN.feed_forware(x_train).T, y_train.T ) \n",
        "print(\"loss :\", loss_array[0,k] )\n",
        "              \n",
        "\n",
        "print(\"# Input_x_train:\\n \" + str(x_train))\n",
        "print(\"# Idea_y_train:\\n\" + str(y_train))\n",
        "print(\"----------------------------------------\")\n",
        "print(\"# Loss array:\\n \" + str(loss_array[0,:]))\n",
        "\n",
        "# plot\n",
        "plt.xlabel('Epoch')\n",
        "plt.ylabel('Loss')\n",
        "plt.plot(epoch_plot, loss_array[0,:])\n",
        "plt.show()"
      ],
      "execution_count": 0,
      "outputs": [
        {
          "output_type": "stream",
          "text": [
            "Forward pass output size: (60000, 10)\n",
            "log(feed_forware(x_train)) [[-7.66125860e+00 -1.38049572e-11 -2.28089174e+01 ... -1.26085726e+01\n",
            "  -2.04896815e+01 -3.07312559e+01]\n",
            " [-1.37377945e+01 -2.57430250e+00 -3.01559206e+01 ... -1.50635415e+01\n",
            "  -2.82712778e-04 -2.17748047e+01]\n",
            " [-2.12038634e-04 -9.45566508e-06 -4.82542547e+00 ... -1.94716125e+01\n",
            "  -1.37961429e+01 -3.84140740e+01]\n",
            " ...\n",
            " [-6.25364180e+00 -4.08941233e-05 -1.81394515e+01 ... -7.05742450e+00\n",
            "  -1.52577682e+01 -3.20462862e+01]\n",
            " [-9.99284550e+00 -1.39468033e-04 -2.07249947e+01 ... -3.12230707e-02\n",
            "  -7.29612637e+00 -3.02259259e+01]\n",
            " [-2.24834117e+00 -1.31285598e-06 -1.10359836e+01 ... -2.44490099e+00\n",
            "  -1.25879523e+01 -1.86963238e+01]]\n",
            "y_train output size: (60000, 10)\n",
            "y.shape[1]: 10\n",
            "# Every_epoch_Loss: \n",
            "loss : inf\n",
            "# Input_x_train:\n",
            " [[ 0.01        0.01        0.01       ...  0.01        0.01\n",
            "  -0.87876448]\n",
            " [ 0.01        0.01        0.01       ...  0.01        0.01\n",
            "  -0.13758098]\n",
            " [ 0.01        0.01        0.01       ...  0.01        0.01\n",
            "  -0.50846918]\n",
            " ...\n",
            " [ 0.01        0.01        0.01       ...  0.01        0.01\n",
            "  -0.58108702]\n",
            " [ 0.01        0.01        0.01       ...  0.01        0.01\n",
            "   0.56310624]\n",
            " [ 0.01        0.01        0.01       ...  0.01        0.01\n",
            "  -0.70724077]]\n",
            "# Idea_y_train:\n",
            "[[0.01 0.01 0.01 ... 0.01 0.01 0.01]\n",
            " [0.99 0.01 0.01 ... 0.01 0.01 0.01]\n",
            " [0.01 0.01 0.01 ... 0.01 0.01 0.01]\n",
            " ...\n",
            " [0.01 0.01 0.01 ... 0.01 0.01 0.01]\n",
            " [0.01 0.01 0.01 ... 0.01 0.01 0.01]\n",
            " [0.01 0.01 0.01 ... 0.01 0.99 0.01]]\n",
            "----------------------------------------\n",
            "# Loss array:\n",
            " [inf  0.  0.  0.  0.  0.  0.  0.  0.  0.]\n"
          ],
          "name": "stdout"
        },
        {
          "output_type": "stream",
          "text": [
            "C:\\Users\\User\\Anaconda3\\lib\\site-packages\\ipykernel_launcher.py:3: RuntimeWarning: divide by zero encountered in log\n",
            "  This is separate from the ipykernel package so we can avoid doing imports until\n"
          ],
          "name": "stderr"
        },
        {
          "output_type": "display_data",
          "data": {
            "image/png": "[encoded data removed]",
            "text/plain": [
              "<Figure size 432x288 with 1 Axes>"
            ]
          },
          "metadata": {
            "tags": [],
            "needs_background": "light"
          }
        }
      ]
    },
    {
      "cell_type": "markdown",
      "metadata": {
        "id": "6Y4GA91vMxXg",
        "colab_type": "text"
      },
      "source": [
        "# Valid the Model"
      ]
    },
    {
      "cell_type": "code",
      "metadata": {
        "id": "KS8ZSy_XMxXh",
        "colab_type": "code",
        "colab": {},
        "outputId": "a8327978-d17e-43d5-9b89-35b6bbb5f028"
      },
      "source": [
        "print('# Last_tran_w1:\\n', NN.last_w1)\n",
        "print('# Last_tran_w2:\\n', NN.last_w2)\n",
        "valid_A1 = np.dot(x_valid, NN.last_w1)\n",
        "valid_G1 = NN.sigmoid(valid_A1)\n",
        "valid_A2 = np.dot(valid_G1, NN.last_w2)\n",
        "valid_G2 = NN.sigmoid(valid_A2)\n",
        "print(\"-------------------------------------------\")\n",
        "print(\"# valid_Loss(%): \" + str(100*(np.mean(np.square( y_valid - NN.feed_forware(x_valid))))))\n",
        "print(\"-------------------------------------------\")\n",
        "deviation = np.abs(y_valid-valid_G2/y_valid)*100\n",
        "print('# Valid Deviation (%):\\n', deviation)   # deviation [num_data x3]\n",
        "\n",
        "\n",
        "each_valid_set = np.array([0, 1, 2, 3, 4, 5, 6])\n",
        "\n",
        "# plot\n",
        "plt.xlabel('Each valid input')\n",
        "plt.ylabel('Valid output')\n",
        "plt.plot(each_valid_set, y_valid, label = \"Actual output\")\n",
        "plt.plot(each_valid_set, valid_G2, label = \"Prediction output\")\n",
        "plt.legend()\n",
        "plt.show()\n",
        "\n",
        "plt.xlabel('Each valid input')\n",
        "plt.ylabel('Valid Deviation (%)')\n",
        "plt.plot(each_valid_set, deviation)\n",
        "plt.show()"
      ],
      "execution_count": 0,
      "outputs": [
        {
          "output_type": "stream",
          "text": [
            "# Last_tran_w1:\n",
            " [[ 0.90351421 -0.01847468 -1.13228291 ... -1.01269003  0.98161271\n",
            "  -0.90568178]\n",
            " [ 0.31304099  1.84098195  0.19936873 ...  0.7756495  -0.50905264\n",
            "   0.46525257]\n",
            " [ 0.30127124 -1.28123941 -0.51047485 ... -0.15563512 -0.14977382\n",
            "   0.16328811]\n",
            " ...\n",
            " [ 0.56705413  0.31477441  1.29605578 ... -0.88363726 -0.28661389\n",
            "  -1.14022258]\n",
            " [-0.33610129 -0.99604108  0.25686444 ... -0.4750123   0.53972137\n",
            "  -0.19289761]\n",
            " [ 1.13416002  0.00740743 -0.48679193 ...  0.56935509  0.21764342\n",
            "   0.89375264]]\n",
            "# Last_tran_w2:\n",
            " [[ 1.91679889 -0.57153987 -0.85888827 ... -1.47208881 -0.8707553\n",
            "   0.09719131]\n",
            " [-3.529897   -1.94452474 -1.24875543 ... -4.8307859  -3.88604092\n",
            "  -2.354579  ]\n",
            " [-3.08592613 -1.50852046 -2.20541614 ... -3.8692572  -0.62407711\n",
            "  -2.66778918]\n",
            " ...\n",
            " [-5.84885127 -3.70288773 -0.18913996 ... -5.68042088 -3.07739359\n",
            "  -4.17656987]\n",
            " [-3.54334325 -2.59484993  1.98764778 ... -3.9867822  -3.91238532\n",
            "  -3.41799102]\n",
            " [ 0.38374798  0.43232552 -0.90771489 ... -1.41480053 -1.43184601\n",
            "  -2.40271043]]\n"
          ],
          "name": "stdout"
        },
        {
          "output_type": "error",
          "ename": "NameError",
          "evalue": "name 'x_valid' is not defined",
          "traceback": [
            "\u001b[1;31m---------------------------------------------------------------------------\u001b[0m",
            "\u001b[1;31mNameError\u001b[0m                                 Traceback (most recent call last)",
            "\u001b[1;32m<ipython-input-9-3390cd009080>\u001b[0m in \u001b[0;36m<module>\u001b[1;34m\u001b[0m\n\u001b[0;32m      1\u001b[0m \u001b[0mprint\u001b[0m\u001b[1;33m(\u001b[0m\u001b[1;34m'# Last_tran_w1:\\n'\u001b[0m\u001b[1;33m,\u001b[0m \u001b[0mNN\u001b[0m\u001b[1;33m.\u001b[0m\u001b[0mlast_w1\u001b[0m\u001b[1;33m)\u001b[0m\u001b[1;33m\u001b[0m\u001b[1;33m\u001b[0m\u001b[0m\n\u001b[0;32m      2\u001b[0m \u001b[0mprint\u001b[0m\u001b[1;33m(\u001b[0m\u001b[1;34m'# Last_tran_w2:\\n'\u001b[0m\u001b[1;33m,\u001b[0m \u001b[0mNN\u001b[0m\u001b[1;33m.\u001b[0m\u001b[0mlast_w2\u001b[0m\u001b[1;33m)\u001b[0m\u001b[1;33m\u001b[0m\u001b[1;33m\u001b[0m\u001b[0m\n\u001b[1;32m----> 3\u001b[1;33m \u001b[0mvalid_A1\u001b[0m \u001b[1;33m=\u001b[0m \u001b[0mnp\u001b[0m\u001b[1;33m.\u001b[0m\u001b[0mdot\u001b[0m\u001b[1;33m(\u001b[0m\u001b[0mx_valid\u001b[0m\u001b[1;33m,\u001b[0m \u001b[0mNN\u001b[0m\u001b[1;33m.\u001b[0m\u001b[0mlast_w1\u001b[0m\u001b[1;33m)\u001b[0m\u001b[1;33m\u001b[0m\u001b[1;33m\u001b[0m\u001b[0m\n\u001b[0m\u001b[0;32m      4\u001b[0m \u001b[0mvalid_G1\u001b[0m \u001b[1;33m=\u001b[0m \u001b[0mNN\u001b[0m\u001b[1;33m.\u001b[0m\u001b[0msigmoid\u001b[0m\u001b[1;33m(\u001b[0m\u001b[0mvalid_A1\u001b[0m\u001b[1;33m)\u001b[0m\u001b[1;33m\u001b[0m\u001b[1;33m\u001b[0m\u001b[0m\n\u001b[0;32m      5\u001b[0m \u001b[0mvalid_A2\u001b[0m \u001b[1;33m=\u001b[0m \u001b[0mnp\u001b[0m\u001b[1;33m.\u001b[0m\u001b[0mdot\u001b[0m\u001b[1;33m(\u001b[0m\u001b[0mvalid_G1\u001b[0m\u001b[1;33m,\u001b[0m \u001b[0mNN\u001b[0m\u001b[1;33m.\u001b[0m\u001b[0mlast_w2\u001b[0m\u001b[1;33m)\u001b[0m\u001b[1;33m\u001b[0m\u001b[1;33m\u001b[0m\u001b[0m\n",
            "\u001b[1;31mNameError\u001b[0m: name 'x_valid' is not defined"
          ]
        }
      ]
    },
    {
      "cell_type": "code",
      "metadata": {
        "id": "TXAISAQCMxXj",
        "colab_type": "code",
        "colab": {}
      },
      "source": [
        ""
      ],
      "execution_count": 0,
      "outputs": []
    },
    {
      "cell_type": "code",
      "metadata": {
        "id": "g9A-GgweMxXl",
        "colab_type": "code",
        "colab": {}
      },
      "source": [
        "q = np.array(([1,2],[3,4]))\n",
        "p = np.array(([5,6],[7,8]))\n",
        "d = q * p\n",
        "print(q)\n",
        "print(\"------------\")\n",
        "print(p)\n",
        "print(\"------------\")\n",
        "print(d)\n",
        "print(\"------------\")\n",
        "s = np.multiply(q,p)\n",
        "print(s)"
      ],
      "execution_count": 0,
      "outputs": []
    },
    {
      "cell_type": "code",
      "metadata": {
        "id": "R4b6Yc-pMxXo",
        "colab_type": "code",
        "colab": {}
      },
      "source": [
        ""
      ],
      "execution_count": 0,
      "outputs": []
    },
    {
      "cell_type": "code",
      "metadata": {
        "id": "UlYyGsERMxXq",
        "colab_type": "code",
        "colab": {}
      },
      "source": [
        ""
      ],
      "execution_count": 0,
      "outputs": []
    },
    {
      "cell_type": "code",
      "metadata": {
        "id": "coLepC3mMxXu",
        "colab_type": "code",
        "colab": {}
      },
      "source": [
        ""
      ],
      "execution_count": 0,
      "outputs": []
    }
  ]
}